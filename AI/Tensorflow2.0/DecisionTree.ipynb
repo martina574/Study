{
 "cells": [
  {
   "cell_type": "code",
   "execution_count": 1,
   "metadata": {},
   "outputs": [],
   "source": [
    "import operator\n",
    "from math import log"
   ]
  },
  {
   "cell_type": "code",
   "execution_count": 2,
   "metadata": {},
   "outputs": [],
   "source": [
    "def createData():\n",
    "        dataset = [[1,1,'yes'],[1,1,'yes'],[1,0,'no'],[0,1,'no'],[0,1,'no']]\n",
    "        label = ['no surfacing','flippers']\n",
    "        return dataset, label"
   ]
  },
  {
   "cell_type": "code",
   "execution_count": 3,
   "metadata": {},
   "outputs": [],
   "source": [
    "def calcEntropy(dataset):\n",
    "    lenDataSet = len(dataset)\n",
    "    p={}\n",
    "    H = 0.0\n",
    "    for data in dataset:\n",
    "        currentLabel = data[-1]\n",
    "        if currentLabel not in p.keys():\n",
    "            p[currentLabel] = 0\n",
    "        p[currentLabel] += 1\n",
    "        \n",
    "    for key in p:\n",
    "        px = float(p[key])/float(lenDataSet)\n",
    "        H -= px*log(px, 2)\n",
    "        \n",
    "    return H"
   ]
  },
  {
   "cell_type": "code",
   "execution_count": 39,
   "metadata": {},
   "outputs": [],
   "source": [
    "def splitData(dataset, axis, value):\n",
    "    print(\"split dataset:\", dataset)\n",
    "    print(\"axis, value:\", axis,value)\n",
    "    subDataset = []\n",
    "    if dataset[axis] == value:\n",
    "        subData = data[:axis]\n",
    "        subData.extend(data[axis+1:])\n",
    "        subDataset.append(subData)\n",
    "        \n",
    "    return subDataset"
   ]
  },
  {
   "cell_type": "code",
   "execution_count": 33,
   "metadata": {},
   "outputs": [],
   "source": [
    "def chooseBestFeature(dataset):\n",
    "    lenFeature = len(dataset[0]) - 1\n",
    "    entropyInit = calcEntropy(dataset)\n",
    "    feature = []\n",
    "    inValue = 0.\n",
    "    bestFeature = 0\n",
    "    for i in range(lenFeature):\n",
    "        entropyCarry = 0.\n",
    "        feature = [example[i] for example in dataset]\n",
    "        feature = set(feature)\n",
    "        for f in feature:\n",
    "            subData = splitData(dataset, i, f)\n",
    "            print(\"dataset: \", dataset)\n",
    "            print(\"subData: \", subData)\n",
    "            print(\"i,f: \", i,f)\n",
    "            prob = float(len(subData)) / float(len(dataset))\n",
    "            entropyCarry += prob * calcEntropy(subData)\n",
    "        outValue = entropyInit - entropyCarry\n",
    "        if (outValue > inValue):\n",
    "            inValue = outValue\n",
    "            bestFeature = i\n",
    "    \n",
    "    return bestFeature"
   ]
  },
  {
   "cell_type": "code",
   "execution_count": 31,
   "metadata": {},
   "outputs": [],
   "source": [
    "def majorCount(classList):\n",
    "    classCount = {}\n",
    "    for vote in classList:\n",
    "        if vote not in classCount.keys():\n",
    "            classCount[vote] = 0\n",
    "        classCount += 1\n",
    "    sortedClassCount = sorted(classCount.items(), key=operator.itemgetter(1),\n",
    "                              reverse=True)\n",
    "    return sortedClassCount[0][0]"
   ]
  },
  {
   "cell_type": "code",
   "execution_count": 28,
   "metadata": {},
   "outputs": [],
   "source": [
    "def createTree(dataset, label):\n",
    "    classList = [example[-1] for example in dataset]\n",
    "    if classList.count(classList[0])==len(classList):\n",
    "        return classList[0]\n",
    "    if len(dataset[0]) == 1:\n",
    "        return majorCount(classList)\n",
    "    featBest = chooseBestFeature(dataset)\n",
    "    feature = [example[featBest] for example in dataset]\n",
    "    featValue = set(feature)\n",
    "    newLabel = label[featBest]\n",
    "    del(label[featBest])\n",
    "    Tree={newLabel:{}}\n",
    "    print(featValue)\n",
    "    for value in featValue:\n",
    "        subLabel = label[:]\n",
    "        Tree[newLabel][value] = createTree(splitData(dataset, featBest, value), subLabel)\n",
    "    return Tree"
   ]
  },
  {
   "cell_type": "code",
   "execution_count": 35,
   "metadata": {},
   "outputs": [],
   "source": [
    "def classify(tree, label, testVec):\n",
    "    firstFeat = list(tree.keys())[0]\n",
    "    secondDict = tree[firstFeat]\n",
    "    labelIndex = label.index(firstFeat)\n",
    "    for key in secondDict.keys():\n",
    "        if testVec[labelIndex] == key:\n",
    "            if type(secondDict[key]).__name__ == 'dict':\n",
    "                classLabel = classify(secondDict[key], label, testVec)\n",
    "            else:\n",
    "                classLabel = secondDict[key]\n",
    "    return classLabel"
   ]
  },
  {
   "cell_type": "code",
   "execution_count": 36,
   "metadata": {},
   "outputs": [],
   "source": [
    "def storeTree(tree, filename):\n",
    "    import pickle\n",
    "    fw = open(filename, 'wb')\n",
    "    pickle.dump(tree, fw)\n",
    "    fw.close()"
   ]
  },
  {
   "cell_type": "code",
   "execution_count": 37,
   "metadata": {},
   "outputs": [],
   "source": [
    "def loadTree(filename):\n",
    "    import pickle\n",
    "    fr = open(filename, 'rb')\n",
    "    return pickle.load(fr)"
   ]
  },
  {
   "cell_type": "code",
   "execution_count": 40,
   "metadata": {},
   "outputs": [
    {
     "name": "stdout",
     "output_type": "stream",
     "text": [
      "split dataset: [[1, 1, 'yes'], [1, 1, 'yes'], [1, 0, 'no'], [0, 1, 'no'], [0, 1, 'no']]\n",
      "axis, value: 0 0\n",
      "dataset:  [[1, 1, 'yes'], [1, 1, 'yes'], [1, 0, 'no'], [0, 1, 'no'], [0, 1, 'no']]\n",
      "subData:  []\n",
      "i,f:  0 0\n",
      "split dataset: [[1, 1, 'yes'], [1, 1, 'yes'], [1, 0, 'no'], [0, 1, 'no'], [0, 1, 'no']]\n",
      "axis, value: 0 1\n",
      "dataset:  [[1, 1, 'yes'], [1, 1, 'yes'], [1, 0, 'no'], [0, 1, 'no'], [0, 1, 'no']]\n",
      "subData:  []\n",
      "i,f:  0 1\n",
      "split dataset: [[1, 1, 'yes'], [1, 1, 'yes'], [1, 0, 'no'], [0, 1, 'no'], [0, 1, 'no']]\n",
      "axis, value: 1 0\n",
      "dataset:  [[1, 1, 'yes'], [1, 1, 'yes'], [1, 0, 'no'], [0, 1, 'no'], [0, 1, 'no']]\n",
      "subData:  []\n",
      "i,f:  1 0\n",
      "split dataset: [[1, 1, 'yes'], [1, 1, 'yes'], [1, 0, 'no'], [0, 1, 'no'], [0, 1, 'no']]\n",
      "axis, value: 1 1\n",
      "dataset:  [[1, 1, 'yes'], [1, 1, 'yes'], [1, 0, 'no'], [0, 1, 'no'], [0, 1, 'no']]\n",
      "subData:  []\n",
      "i,f:  1 1\n",
      "split dataset: [[1, 'yes'], [1, 'yes'], [0, 'no']]\n",
      "axis, value: 0 0\n",
      "dataset:  [[1, 'yes'], [1, 'yes'], [0, 'no']]\n",
      "subData:  []\n",
      "i,f:  0 0\n",
      "split dataset: [[1, 'yes'], [1, 'yes'], [0, 'no']]\n",
      "axis, value: 0 1\n",
      "dataset:  [[1, 'yes'], [1, 'yes'], [0, 'no']]\n",
      "subData:  []\n",
      "i,f:  0 1\n",
      "{'no surfacing': {0: 'no', 1: {'flippers': {0: 'no', 1: 'yes'}}}}\n",
      "['no surfacing']\n",
      "no\n",
      "{'no surfacing': {0: 'no', 1: {'flippers': {0: 'no', 1: 'yes'}}}}\n"
     ]
    }
   ],
   "source": [
    "if __name__ == '__main__':\n",
    "    dataset, label = createData()\n",
    "    labelTree = label[:]\n",
    "    tree = createTree(dataset, labelTree)\n",
    "    print(tree)\n",
    "    print(list(tree.keys()))\n",
    "    classLabel = classify(tree, label, [1,0])\n",
    "    print(classLabel)\n",
    "    storeTree(tree, 'dataTree.txt')\n",
    "    print(loadTree('dataTree.txt'))"
   ]
  },
  {
   "cell_type": "code",
   "execution_count": null,
   "metadata": {},
   "outputs": [],
   "source": []
  }
 ],
 "metadata": {
  "kernelspec": {
   "display_name": "Python 3",
   "language": "python",
   "name": "python3"
  },
  "language_info": {
   "codemirror_mode": {
    "name": "ipython",
    "version": 3
   },
   "file_extension": ".py",
   "mimetype": "text/x-python",
   "name": "python",
   "nbconvert_exporter": "python",
   "pygments_lexer": "ipython3",
   "version": "3.7.6"
  }
 },
 "nbformat": 4,
 "nbformat_minor": 4
}
