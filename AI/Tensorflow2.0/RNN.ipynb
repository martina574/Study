{
 "cells": [
  {
   "cell_type": "markdown",
   "metadata": {},
   "source": [
    "# RNN for semtiment analysis"
   ]
  },
  {
   "cell_type": "markdown",
   "metadata": {},
   "source": [
    "**初期設定**"
   ]
  },
  {
   "cell_type": "code",
   "execution_count": 1,
   "metadata": {},
   "outputs": [],
   "source": [
    "import os\n",
    "import tensorflow as tf\n",
    "import numpy as np\n",
    "from tensorflow import keras"
   ]
  },
  {
   "cell_type": "code",
   "execution_count": 3,
   "metadata": {},
   "outputs": [],
   "source": [
    "tf.random.set_seed(22)\n",
    "np.random.seed(22)\n",
    "os.environ['TF_CPP_MIN_LOG_LEVEL'] = '2'\n",
    "assert tf.__version__.startswith('2.')"
   ]
  },
  {
   "cell_type": "markdown",
   "metadata": {},
   "source": [
    "**Config Info**"
   ]
  },
  {
   "cell_type": "code",
   "execution_count": 4,
   "metadata": {},
   "outputs": [
    {
     "name": "stdout",
     "output_type": "stream",
     "text": [
      "Downloading data from https://storage.googleapis.com/tensorflow/tf-keras-datasets/imdb.npz\n",
      "17465344/17464789 [==============================] - 0s 0us/step\n",
      "Pad sequences (samples x time)\n",
      "x_trian shape:  (25000, 80)\n",
      "x_test shape:  (25000, 80)\n"
     ]
    }
   ],
   "source": [
    "np.random.seed(7)\n",
    "# Load the dataset but only keep the top n words, zero the rest\n",
    "top_words = 10000\n",
    "# Trancate and pad input sequences\n",
    "max_review_length = 80\n",
    "(x_tr, y_tr), (x_te, y_te) = keras.datasets.imdb.load_data(num_words=top_words)\n",
    "print(\"Pad sequences (samples x time)\")\n",
    "x_tr = keras.preprocessing.sequence.pad_sequences(x_tr, maxlen=max_review_length)\n",
    "x_te = keras.preprocessing.sequence.pad_sequences(x_te, maxlen=max_review_length)\n",
    "print('x_trian shape: ',x_tr.shape)\n",
    "print('x_test shape: ',x_te.shape)"
   ]
  },
  {
   "cell_type": "code",
   "execution_count": 9,
   "metadata": {},
   "outputs": [],
   "source": [
    "class RNN(keras.Model):\n",
    "    def __init__(self, units, num_class, num_layers):\n",
    "        super(RNN, self).__init__()\n",
    "        \n",
    "        self.rnn = keras.layers.LSTM(units, return_sequences=True)\n",
    "        self.rnn2 = keras.layers.LSTM(units)\n",
    "        \n",
    "        self.embedding = keras.layers.Embedding(top_words, 100, input_length=max_review_length)\n",
    "        self.fc = keras.layers.Dense(1)\n",
    "        \n",
    "    def call(self, inputs, training=None, mask=None):\n",
    "        x = self.embedding(inputs)\n",
    "        x = self.rnn(x)\n",
    "        x = self.rnn2(x)\n",
    "        \n",
    "        x = self.fc(x)\n",
    "        print(x.shape)\n",
    "\n",
    "        return x "
   ]
  },
  {
   "cell_type": "code",
   "execution_count": 7,
   "metadata": {},
   "outputs": [],
   "source": [
    "def main():\n",
    "    units = 64\n",
    "    num_classes = 2\n",
    "    batch_size = 32\n",
    "    epochs = 20\n",
    "    \n",
    "    model = RNN(units, num_classes, num_layers=2)\n",
    "    \n",
    "    model.compile(optimizer=keras.optimizers.Adam(0.001),\n",
    "                  loss=keras.losses.BinaryCrossentropy(from_logits=True),\n",
    "                  metrics=['accuracy'])\n",
    "    model.fit(x_tr, y_tr, batch_size=batch_size, epochs=epochs,\n",
    "              validation_data=(x_te, y_te), verbose=1)\n",
    "    \n",
    "    scores = model.evaluate(x_te, y_te, batch_size, verbose=1)\n",
    "    \n",
    "    print('Final test loss and accuracy: ', scores)"
   ]
  },
  {
   "cell_type": "code",
   "execution_count": 10,
   "metadata": {},
   "outputs": [
    {
     "name": "stdout",
     "output_type": "stream",
     "text": [
      "Epoch 1/20\n",
      "(None, 1)\n",
      "(None, 1)\n",
      "779/782 [============================>.] - ETA: 0s - loss: 0.4218 - accuracy: 0.7921(None, 1)\n",
      "782/782 [==============================] - 14s 18ms/step - loss: 0.4217 - accuracy: 0.7921 - val_loss: 0.3665 - val_accuracy: 0.8286\n",
      "Epoch 2/20\n",
      "782/782 [==============================] - 14s 18ms/step - loss: 0.2673 - accuracy: 0.8857 - val_loss: 0.3763 - val_accuracy: 0.8424\n",
      "Epoch 3/20\n",
      "782/782 [==============================] - 14s 18ms/step - loss: 0.1887 - accuracy: 0.9235 - val_loss: 0.4449 - val_accuracy: 0.8334\n",
      "Epoch 4/20\n",
      "782/782 [==============================] - 14s 18ms/step - loss: 0.1296 - accuracy: 0.9508 - val_loss: 0.4835 - val_accuracy: 0.8279\n",
      "Epoch 5/20\n",
      "782/782 [==============================] - 14s 18ms/step - loss: 0.0854 - accuracy: 0.9679 - val_loss: 0.5462 - val_accuracy: 0.8268\n",
      "Epoch 6/20\n",
      "782/782 [==============================] - 14s 18ms/step - loss: 0.0546 - accuracy: 0.9806 - val_loss: 0.7347 - val_accuracy: 0.8199\n",
      "Epoch 7/20\n",
      "782/782 [==============================] - 14s 18ms/step - loss: 0.0432 - accuracy: 0.9854 - val_loss: 0.7944 - val_accuracy: 0.8178\n",
      "Epoch 8/20\n",
      "782/782 [==============================] - 14s 18ms/step - loss: 0.0341 - accuracy: 0.9880 - val_loss: 0.7673 - val_accuracy: 0.8268\n",
      "Epoch 9/20\n",
      "782/782 [==============================] - 14s 18ms/step - loss: 0.0279 - accuracy: 0.9913 - val_loss: 0.8269 - val_accuracy: 0.8202\n",
      "Epoch 10/20\n",
      "782/782 [==============================] - 14s 18ms/step - loss: 0.0269 - accuracy: 0.9906 - val_loss: 0.8465 - val_accuracy: 0.8266\n",
      "Epoch 11/20\n",
      "782/782 [==============================] - 14s 18ms/step - loss: 0.0187 - accuracy: 0.9939 - val_loss: 0.9376 - val_accuracy: 0.8185\n",
      "Epoch 12/20\n",
      "782/782 [==============================] - 14s 18ms/step - loss: 0.0142 - accuracy: 0.9954 - val_loss: 0.9200 - val_accuracy: 0.8175\n",
      "Epoch 13/20\n",
      "782/782 [==============================] - 14s 18ms/step - loss: 0.0194 - accuracy: 0.9938 - val_loss: 0.9831 - val_accuracy: 0.8179\n",
      "Epoch 14/20\n",
      "782/782 [==============================] - 13s 17ms/step - loss: 0.0109 - accuracy: 0.9967 - val_loss: 1.1158 - val_accuracy: 0.8138\n",
      "Epoch 15/20\n",
      "782/782 [==============================] - 14s 17ms/step - loss: 0.0079 - accuracy: 0.9976 - val_loss: 1.0164 - val_accuracy: 0.8184\n",
      "Epoch 16/20\n",
      "782/782 [==============================] - 14s 18ms/step - loss: 0.0180 - accuracy: 0.9943 - val_loss: 0.9392 - val_accuracy: 0.8210\n",
      "Epoch 17/20\n",
      "782/782 [==============================] - 14s 18ms/step - loss: 0.0100 - accuracy: 0.9966 - val_loss: 1.1078 - val_accuracy: 0.8215\n",
      "Epoch 18/20\n",
      "782/782 [==============================] - 14s 18ms/step - loss: 0.0105 - accuracy: 0.9966 - val_loss: 1.0361 - val_accuracy: 0.8169\n",
      "Epoch 19/20\n",
      "782/782 [==============================] - 14s 18ms/step - loss: 0.0090 - accuracy: 0.9967 - val_loss: 1.2020 - val_accuracy: 0.8213\n",
      "Epoch 20/20\n",
      "782/782 [==============================] - 14s 18ms/step - loss: 0.0077 - accuracy: 0.9977 - val_loss: 1.1671 - val_accuracy: 0.8162\n",
      "782/782 [==============================] - 4s 5ms/step - loss: 1.1671 - accuracy: 0.8162\n",
      "Final test loss and accuracy:  [1.1671234369277954, 0.8161600232124329]\n"
     ]
    }
   ],
   "source": [
    "if __name__ == '__main__':\n",
    "    main()"
   ]
  },
  {
   "cell_type": "code",
   "execution_count": null,
   "metadata": {},
   "outputs": [],
   "source": []
  }
 ],
 "metadata": {
  "kernelspec": {
   "display_name": "Python 3",
   "language": "python",
   "name": "python3"
  },
  "language_info": {
   "codemirror_mode": {
    "name": "ipython",
    "version": 3
   },
   "file_extension": ".py",
   "mimetype": "text/x-python",
   "name": "python",
   "nbconvert_exporter": "python",
   "pygments_lexer": "ipython3",
   "version": "3.7.6"
  }
 },
 "nbformat": 4,
 "nbformat_minor": 4
}
