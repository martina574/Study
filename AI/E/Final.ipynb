{
  "nbformat": 4,
  "nbformat_minor": 0,
  "metadata": {
    "kernelspec": {
      "display_name": "Python 3",
      "language": "python",
      "name": "python3"
    },
    "language_info": {
      "codemirror_mode": {
        "name": "ipython",
        "version": 3
      },
      "file_extension": ".py",
      "mimetype": "text/x-python",
      "name": "python",
      "nbconvert_exporter": "python",
      "pygments_lexer": "ipython3",
      "version": "3.7.6"
    },
    "colab": {
      "name": "Theme002.ipynb",
      "provenance": []
    }
  },
  "cells": [
    {
      "cell_type": "markdown",
      "metadata": {
        "id": "2zPIdcyLCJqv"
      },
      "source": [
        "# 説明\n",
        "## 目的：\n",
        "1枚の画像の半分(一部)を切り取ったものを入力とし、元の全体の画像を出力させる。"
      ]
    },
    {
      "cell_type": "markdown",
      "metadata": {
        "id": "GJTzhtcAK5tq"
      },
      "source": [
        "必要なLibraryをImportする。  \n",
        "※tensorflowは2.3を使っています。"
      ]
    },
    {
      "cell_type": "code",
      "metadata": {
        "id": "2uzF9UatB_nV"
      },
      "source": [
        "import tensorflow as tf\n",
        "assert tf.__version__.startswith('2')"
      ],
      "execution_count": 1,
      "outputs": []
    },
    {
      "cell_type": "code",
      "metadata": {
        "id": "JEW-pv0MB_nW"
      },
      "source": [
        "import os\n",
        "import time\n",
        "import numpy as np\n",
        "import cv2"
      ],
      "execution_count": 2,
      "outputs": []
    },
    {
      "cell_type": "markdown",
      "metadata": {
        "id": "bVwCEgTiLb2C"
      },
      "source": [
        "同じ結果を再現できるように、各LibraryのSEEDをセットする。"
      ]
    },
    {
      "cell_type": "code",
      "metadata": {
        "id": "EK777-YiB_nW"
      },
      "source": [
        "np.random.seed(222)\n",
        "tf.random.set_seed(222)"
      ],
      "execution_count": 3,
      "outputs": []
    },
    {
      "cell_type": "markdown",
      "metadata": {
        "id": "ZfI8yOQ8LbGK"
      },
      "source": [
        "定数を定義する。"
      ]
    },
    {
      "cell_type": "code",
      "metadata": {
        "id": "vgswr5zuB_nW"
      },
      "source": [
        "# Define constance\n",
        "batch_size = 128\n",
        "shuffle_size = 10000"
      ],
      "execution_count": 4,
      "outputs": []
    },
    {
      "cell_type": "markdown",
      "metadata": {
        "id": "VIb0Z_EXL70w"
      },
      "source": [
        "## データを準備する。\n",
        "・利用されたデータセット：mnist\n",
        "元のデータは28*28*1の画像ですが、Upsamplingで画像を再現できるように32*32*1にResizeしました。  \n",
        "※画像サイズが28の場合：\n",
        "　Encoder:28→DownSampling→14→DownSampling→7→DownSampling→4   \n",
        "　Decoder:32← UpSampling ←16← UpSampling ←8← UpSampling ←4  \n",
        "サイズが一致になってないのため、32にResizeすると：  \n",
        "　Encoder:32→DownSampling→16→DownSampling→8→DownSampling→4   \n",
        "　Decoder:32← UpSampling ←16← UpSampling ←8← UpSampling ←4  \n",
        "・Resize：28→32にResizeすると、(32-28)/2=2なので、各方向をpaddingを2に設定する。(0でPad)"
      ]
    },
    {
      "cell_type": "code",
      "metadata": {
        "colab": {
          "base_uri": "https://localhost:8080/"
        },
        "id": "wtoTOFmSB_nW",
        "outputId": "2a95d47c-8637-4003-fcdf-7956fc98a24c"
      },
      "source": [
        "# Prepare data\n",
        "(x_train_, y_train_), (x_test_, y_test_) = tf.keras.datasets.mnist.load_data()\n",
        "\n",
        "## Resize data\n",
        "paddings = tf.constant([[0,0],[2,2],[2,2]])\n",
        "x_train_ = tf.pad(x_train_, paddings)\n",
        "x_test_ = tf.pad(x_test_, paddings)\n",
        "\n",
        "x_train_ = tf.expand_dims(x_train_, 3)\n",
        "x_test_ = tf.expand_dims(x_test_, 3)\n",
        "\n",
        "## Range(-1, 1)\n",
        "x_train = x_train_.numpy().astype(np.float32)/127.5 - 1\n",
        "x_train = tf.data.Dataset.from_tensor_slices(x_train).shuffle(shuffle_size).batch(batch_size)\n",
        "\n",
        "x_test = x_test_.numpy().astype(np.float32)/127.5 - 1\n",
        "x_test = tf.data.Dataset.from_tensor_slices(x_test).batch(batch_size)\n",
        "\n",
        "print(x_train_.shape)"
      ],
      "execution_count": 5,
      "outputs": [
        {
          "output_type": "stream",
          "text": [
            "Downloading data from https://storage.googleapis.com/tensorflow/tf-keras-datasets/mnist.npz\n",
            "11493376/11490434 [==============================] - 0s 0us/step\n",
            "(60000, 32, 32, 1)\n"
          ],
          "name": "stdout"
        }
      ]
    },
    {
      "cell_type": "markdown",
      "metadata": {
        "id": "X_-Ir3vWB_nZ"
      },
      "source": [
        "# Utils"
      ]
    },
    {
      "cell_type": "markdown",
      "metadata": {
        "id": "0lwzHtpbO9QA"
      },
      "source": [
        "画像の上の半分を取り出して、入力として使われてます。"
      ]
    },
    {
      "cell_type": "code",
      "metadata": {
        "id": "fdei_tSMB_nZ"
      },
      "source": [
        "def img_crop(inputs):\n",
        "    new_imgs = np.zeros_like(inputs) - np.ones_like(inputs)\n",
        "    new_imgs[:,0:16,:,:] = inputs.numpy()[:,0:16,:,:]\n",
        "    return new_imgs"
      ],
      "execution_count": 6,
      "outputs": []
    },
    {
      "cell_type": "markdown",
      "metadata": {
        "id": "RGQBxkvdB_nZ"
      },
      "source": [
        "# Build the Generator\n",
        "- Down-Sample：Conv2D(stride=2)により、DownSampleを実施  \n",
        "　DownSampleのBlockの構成：  \n",
        "　Conv2D→BN(optional)→LeakyRelu(入力データが[-1,1]のため)  \n",
        "- Up-Sample：Conv2DTransposeにより、UpSampleを実施\n",
        "　UpSampleのBlockの構成：  \n",
        "　Conv2D→BN(optional)→Dropout→LeakyRelu  \n",
        "- generaor: u-net\n",
        "- Generator loss = binaryCrossEntropy + L1"
      ]
    },
    {
      "cell_type": "code",
      "metadata": {
        "id": "TSLUjkONB_nZ"
      },
      "source": [
        "# DownSample -> Conv2.strides=2 -> half\n",
        "def downsample(filters, size, apply_batchnorm=True):\n",
        "    initializer = tf.random_normal_initializer(0.,0.02)\n",
        "    \n",
        "    result = tf.keras.Sequential()\n",
        "    result.add(\n",
        "      tf.keras.layers.Conv2D(filters, size, strides=2, padding='same',\n",
        "                            kernel_initializer=initializer, use_bias=False))\n",
        "    if apply_batchnorm:\n",
        "        result.add(tf.keras.layers.BatchNormalization())\n",
        "        \n",
        "    result.add(tf.keras.layers.LeakyReLU())\n",
        "    \n",
        "    return result"
      ],
      "execution_count": 7,
      "outputs": []
    },
    {
      "cell_type": "code",
      "metadata": {
        "id": "WFEbmfNNB_nZ"
      },
      "source": [
        "# Upsample -> Conv2DTranspose.strides=2 -> double\n",
        "def upsample(filters, size, apply_dropout=False):\n",
        "    initializer = tf.random_normal_initializer(0.,0.02)\n",
        "    \n",
        "    result = tf.keras.Sequential()\n",
        "    result.add(\n",
        "        tf.keras.layers.Conv2DTranspose(filters, size, strides=2,\n",
        "                                       padding='same',\n",
        "                                       kernel_initializer=initializer,\n",
        "                                       use_bias = False))\n",
        "    \n",
        "    result.add(tf.keras.layers.BatchNormalization())\n",
        "    \n",
        "    if apply_dropout:\n",
        "        result.add(tf.keras.layers.Dropout(0.5))\n",
        "        \n",
        "    result.add(tf.keras.layers.LeakyReLU())\n",
        "    \n",
        "    return result"
      ],
      "execution_count": 8,
      "outputs": []
    },
    {
      "cell_type": "markdown",
      "metadata": {
        "id": "SZyupM31SOI0"
      },
      "source": [
        "Generator基本構成：U-Net"
      ]
    },
    {
      "cell_type": "code",
      "metadata": {
        "id": "qNEI3t_KB_nZ"
      },
      "source": [
        "def Generator():\n",
        "    inputs = tf.keras.layers.Input(shape=[32, 32, 1])\n",
        "    \n",
        "    down_stack = [\n",
        "        downsample(64, 4, apply_batchnorm=False),  # (b, 16, 16, 64)\n",
        "        downsample(128, 4),                        # (b, 8, 8, 128)\n",
        "        downsample(256, 4),                        # (b, 4, 4, 256)\n",
        "        downsample(512, 4),                        # (b, 2, 2, 512)\n",
        "        downsample(512, 4)                         # (b, 1, 1, 512)\n",
        "    ]\n",
        "    \n",
        "    up_stack = [\n",
        "        upsample(512, 4, apply_dropout=True), # (b, 2, 2, 512)\n",
        "        upsample(256, 4, apply_dropout=True), # (b, 4, 4, 256)\n",
        "        upsample(128, 4),                     # (b, 8, 8, 256)\n",
        "        upsample( 64, 4)                      # (b, 16, 16, 256)\n",
        "    ]\n",
        "                 \n",
        "    initialier = tf.random_normal_initializer(0.,0.02)\n",
        "    last = tf.keras.layers.Conv2DTranspose(1, 4, strides=2, padding='same',\n",
        "                                          kernel_initializer=initialier,\n",
        "                                          activation='tanh')\n",
        "    \n",
        "    x = inputs\n",
        "    \n",
        "    # Down sampling through the model\n",
        "    skips = []\n",
        "    for down in down_stack:\n",
        "        x = down(x)\n",
        "        skips.append(x)\n",
        "    \n",
        "    skips = reversed(skips[:-1])\n",
        "    \n",
        "    # Up sampling and establishing the skip connection\n",
        "    for up, skip in zip(up_stack, skips):\n",
        "        x=up(x)\n",
        "        x= tf.keras.layers.Concatenate()([x, skip])\n",
        "        \n",
        "    x = last(x)\n",
        "    \n",
        "    return tf.keras.Model(inputs=inputs, outputs=x)"
      ],
      "execution_count": 9,
      "outputs": []
    },
    {
      "cell_type": "code",
      "metadata": {
        "id": "cUqYBxK9B_nZ"
      },
      "source": [
        "generator = Generator()"
      ],
      "execution_count": 10,
      "outputs": []
    },
    {
      "cell_type": "code",
      "metadata": {
        "id": "pcsuxkLuB_nZ"
      },
      "source": [
        "loss_object = tf.keras.losses.BinaryCrossentropy(from_logits=True)"
      ],
      "execution_count": 11,
      "outputs": []
    },
    {
      "cell_type": "markdown",
      "metadata": {
        "id": "uE2WW9NnSgcu"
      },
      "source": [
        "Generator loss = binaryCrossEntropy + L1"
      ]
    },
    {
      "cell_type": "code",
      "metadata": {
        "scrolled": false,
        "id": "XBrKVPNRB_nZ"
      },
      "source": [
        "LAMBDA = 100\n",
        "def generator_loss(disc_generated_output, gen_output, target):\n",
        "    \n",
        "    gan_loss = loss_object(tf.ones_like(disc_generated_output), disc_generated_output)\n",
        "    l1_loss = tf.reduce_mean(tf.abs(target - gen_output))\n",
        "    \n",
        "    loss = gan_loss + (LAMBDA*l1_loss)\n",
        "    \n",
        "    return loss, gan_loss, l1_loss"
      ],
      "execution_count": 12,
      "outputs": []
    },
    {
      "cell_type": "markdown",
      "metadata": {
        "id": "PMQnp9PuB_nZ"
      },
      "source": [
        "# Build the discriminator\n",
        "- PatchGAN"
      ]
    },
    {
      "cell_type": "markdown",
      "metadata": {
        "id": "DVZPZYZTSvN5"
      },
      "source": [
        "元論文のPatchGANは最後の出力は30*30になっていて、各Pixel視野は70になっていますが、今回使用したデータセットは簡単で、元画像が28*28しかないので、最後の出力は4*4のように設定しています。"
      ]
    },
    {
      "cell_type": "code",
      "metadata": {
        "id": "d4Eyug3bB_nZ"
      },
      "source": [
        "def Discriminator():\n",
        "    initializer = tf.random_normal_initializer(0.,0.02)\n",
        "    \n",
        "    inputs = tf.keras.layers.Input(shape=[32,32,1], name='input_image')\n",
        "    target = tf.keras.layers.Input(shape=[32,32,1], name='target_image')\n",
        "    \n",
        "    x = tf.keras.layers.concatenate([inputs, target]) #b,32,32,c*2\n",
        "    \n",
        "    down1 = downsample(64, 4, False)(x) # b, 16, 16, 64\n",
        "    down2 = downsample(128, 4)(down1)   # b, 8, 8, 128\n",
        "    down3 = downsample(256, 4)(down2)   # b, 4, 4, 256\n",
        "    \n",
        "    last = tf.keras.layers.Conv2D(1, 4, strides=1, padding='same',\n",
        "                                kernel_initializer=initializer)(down3) # (bs, 4, 4, 1)\n",
        "\n",
        "    return tf.keras.Model(inputs=[inputs, target], outputs=last)"
      ],
      "execution_count": 13,
      "outputs": []
    },
    {
      "cell_type": "code",
      "metadata": {
        "id": "75x-j1FgB_na"
      },
      "source": [
        "discriminator = Discriminator()"
      ],
      "execution_count": 14,
      "outputs": []
    },
    {
      "cell_type": "code",
      "metadata": {
        "id": "GKduJEJwB_na"
      },
      "source": [
        "def discriminator_loss(disc_real_output, disc_gen_output):\n",
        "    real_loss = loss_object(tf.ones_like(disc_real_output), disc_real_output)\n",
        "    gen_loss = loss_object(tf.zeros_like(disc_gen_output), disc_gen_output)\n",
        "    \n",
        "    loss = real_loss + gen_loss\n",
        "    \n",
        "    return loss"
      ],
      "execution_count": 15,
      "outputs": []
    },
    {
      "cell_type": "markdown",
      "metadata": {
        "id": "Z6GseX84B_na"
      },
      "source": [
        "# Define the Optimizers"
      ]
    },
    {
      "cell_type": "code",
      "metadata": {
        "id": "3pTOiekJB_na"
      },
      "source": [
        "generator_optimizer = tf.keras.optimizers.Adam(2e-4, beta_1=0.5)\n",
        "discriminator_optimizer = tf.keras.optimizers.Adam(2e-4, beta_1=0.5)"
      ],
      "execution_count": 16,
      "outputs": []
    },
    {
      "cell_type": "markdown",
      "metadata": {
        "id": "3J5XWgWNB_na"
      },
      "source": [
        "# Save Result"
      ]
    },
    {
      "cell_type": "code",
      "metadata": {
        "id": "bj7ACwWOB_na"
      },
      "source": [
        "def save_result(model, target, name):\n",
        "    bs = target.shape[0]\n",
        "    idx = np.random.choice(bs, 1)\n",
        "    \n",
        "    tar = target[idx[0],...]\n",
        "    tar = tar[np.newaxis,...]\n",
        "    test_input = img_crop(tar)\n",
        "        \n",
        "    prediction = model(test_input)\n",
        "    new_img = np.zeros((32, 32*3))\n",
        "    \n",
        "    new_img[0:32,0:32] = test_input[0,...,0]\n",
        "    new_img[0:32,32:64] = tar.numpy()[0,...,0]\n",
        "    new_img[0:32,64:96] = prediction.numpy()[0,...,0]\n",
        "   \n",
        "    new_img = np.clip(new_img*127.5 + 127.5, 0, 255)\n",
        "    new_img.astype(np.uint8)\n",
        "    \n",
        "    cv2.imwrite(name, new_img)"
      ],
      "execution_count": 17,
      "outputs": []
    },
    {
      "cell_type": "markdown",
      "metadata": {
        "id": "re-9Q3O-B_na"
      },
      "source": [
        "# Traing"
      ]
    },
    {
      "cell_type": "code",
      "metadata": {
        "id": "5nzm1xvRB_na"
      },
      "source": [
        "EPOCHS = 4\n",
        "loss_gen_all = []\n",
        "loss_l1 = []\n",
        "loss_gen = []\n",
        "loss_disc = []"
      ],
      "execution_count": 18,
      "outputs": []
    },
    {
      "cell_type": "code",
      "metadata": {
        "id": "Ty1mSolcB_na"
      },
      "source": [
        "def train_step(input_image, target, epoch):\n",
        "    with tf.GradientTape() as gen_tape, tf.GradientTape() as disc_tape:\n",
        "        gen_output = generator(input_image, training=True)\n",
        "\n",
        "        disc_real_output = discriminator([input_image, target], training=True)\n",
        "        disc_generated_output = discriminator([input_image, gen_output], training=True)\n",
        "\n",
        "        gen_total_loss, gen_gan_loss, gen_l1_loss = generator_loss(disc_generated_output, gen_output, target)\n",
        "        disc_loss = discriminator_loss(disc_real_output, disc_generated_output)\n",
        "\n",
        "    generator_gradients = gen_tape.gradient(gen_total_loss,\n",
        "                                          generator.trainable_variables)\n",
        "    discriminator_gradients = disc_tape.gradient(disc_loss,\n",
        "                                               discriminator.trainable_variables)\n",
        "\n",
        "    generator_optimizer.apply_gradients(zip(generator_gradients,\n",
        "                                          generator.trainable_variables))\n",
        "    discriminator_optimizer.apply_gradients(zip(discriminator_gradients,\n",
        "                                              discriminator.trainable_variables))\n",
        "    # Save loss to plot later\n",
        "    loss_gen.append(gen_gan_loss.numpy())\n",
        "    loss_l1.append(gen_l1_loss.numpy())\n",
        "    loss_gen_all.append(gen_total_loss.numpy())\n",
        "    loss_disc.append(disc_loss.numpy())"
      ],
      "execution_count": 19,
      "outputs": []
    },
    {
      "cell_type": "code",
      "metadata": {
        "scrolled": true,
        "id": "uDKSsekdB_na"
      },
      "source": [
        "def fit(train_ds, epochs, test_ds):\n",
        "    for epoch in range(epochs):\n",
        "        for step, target in enumerate(train_ds):\n",
        "            input_image = img_crop(target)\n",
        "            train_step(input_image, target, epoch)\n",
        "            if step%100 == 0:\n",
        "                print(\"Epoch%d -> %d\"%(epoch,step))\n",
        "                #print(\"GenLoss: %.2f DiscLoss %.2f\"%(tf.make_loss_gen[-1].numpy(),loss_disc[-1].numpy()))\n",
        "                x = next(iter(test_ds))\n",
        "                save_result(generator, x, \"result_%d_%d.jpg\"%(epoch, step))\n",
        "\n",
        "        # saving result for every epoch\n",
        "        #if (epoch + 1) % 1 == 0:\n",
        "        #    x = next(iter(test_ds))\n",
        "        #    save_result(generator, x, \"result_%d.jpg\"%epoch)"
      ],
      "execution_count": 20,
      "outputs": []
    },
    {
      "cell_type": "code",
      "metadata": {
        "colab": {
          "base_uri": "https://localhost:8080/"
        },
        "id": "3ZvNXEI6B_na",
        "outputId": "57016217-faa4-434d-a15b-49fffa2afa27"
      },
      "source": [
        "fit(x_train, EPOCHS, x_test)"
      ],
      "execution_count": 21,
      "outputs": [
        {
          "output_type": "stream",
          "text": [
            "Epoch0 -> 0\n",
            "Epoch0 -> 100\n",
            "Epoch0 -> 200\n",
            "Epoch0 -> 300\n",
            "Epoch0 -> 400\n",
            "Epoch1 -> 0\n",
            "Epoch1 -> 100\n",
            "Epoch1 -> 200\n",
            "Epoch1 -> 300\n",
            "Epoch1 -> 400\n",
            "Epoch2 -> 0\n",
            "Epoch2 -> 100\n",
            "Epoch2 -> 200\n",
            "Epoch2 -> 300\n",
            "Epoch2 -> 400\n",
            "Epoch3 -> 0\n",
            "Epoch3 -> 100\n",
            "Epoch3 -> 200\n",
            "Epoch3 -> 300\n",
            "Epoch3 -> 400\n"
          ],
          "name": "stdout"
        }
      ]
    },
    {
      "cell_type": "code",
      "metadata": {
        "colab": {
          "base_uri": "https://localhost:8080/",
          "height": 279
        },
        "id": "Imoxs8O7B_na",
        "outputId": "9074fb4d-7859-4555-e7da-a2e41c4f3074"
      },
      "source": [
        "import matplotlib.pyplot as plt\n",
        "\n",
        "plt.plot(range(len(loss_gen)), loss_gen)\n",
        "plt.plot(range(len(loss_l1)), loss_l1)\n",
        "plt.plot(range(len(loss_disc)), loss_disc)\n",
        "plt.legend([\"GEN_gen\", \"GEN_l1\", \"Disc\"])\n",
        "plt.xlabel(\"Step\")\n",
        "plt.ylabel(\"Loss\")\n",
        "plt.show()"
      ],
      "execution_count": 22,
      "outputs": [
        {
          "output_type": "display_data",
          "data": {
            "image/png": "[encoded data removed]",
            "text/plain": [
              "<Figure size 432x288 with 1 Axes>"
            ]
          },
          "metadata": {
            "tags": [],
            "needs_background": "light"
          }
        }
      ]
    },
    {
      "cell_type": "code",
      "metadata": {
        "colab": {
          "base_uri": "https://localhost:8080/",
          "height": 279
        },
        "id": "e-lYwafkoZBt",
        "outputId": "3e577281-a84b-4d03-b2ed-0b5eac4ab995"
      },
      "source": [
        "plt.plot(range(len(loss_gen_all)), loss_gen_all)\n",
        "plt.legend([\"GEN\"])\n",
        "plt.xlabel(\"Step\")\n",
        "plt.ylabel(\"Loss\")\n",
        "plt.show()"
      ],
      "execution_count": 23,
      "outputs": [
        {
          "output_type": "display_data",
          "data": {
            "image/png": "[encoded data removed]",
            "text/plain": [
              "<Figure size 432x288 with 1 Axes>"
            ]
          },
          "metadata": {
            "tags": [],
            "needs_background": "light"
          }
        }
      ]
    },
    {
      "cell_type": "code",
      "metadata": {
        "colab": {
          "base_uri": "https://localhost:8080/",
          "height": 265
        },
        "id": "FNabrU-IopqS",
        "outputId": "2a2738b7-4506-4e37-ad05-0d9828906844"
      },
      "source": [
        "plt.plot(range(len(loss_l1)), loss_l1)\n",
        "plt.show()"
      ],
      "execution_count": 24,
      "outputs": [
        {
          "output_type": "display_data",
          "data": {
            "image/png": "[encoded data removed]",
            "text/plain": [
              "<Figure size 432x288 with 1 Axes>"
            ]
          },
          "metadata": {
            "tags": [],
            "needs_background": "light"
          }
        }
      ]
    }
  ]
}